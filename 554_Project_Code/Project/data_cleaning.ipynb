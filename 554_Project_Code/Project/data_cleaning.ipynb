{
 "cells": [
  {
   "cell_type": "markdown",
   "metadata": {},
   "source": [
    "# Data Cleaning\n",
    "Series: GEPAYGAP\t\t\t\n",
    "\n",
    "Name: Gender monthly wages gap\t\t\t\t\t\t\t\t\t\t\t\t\t\t\t\t\t\n",
    "\n",
    "Definition: Monthly wages of women divided by the monthly wages of men\n",
    "\n",
    "Source: International Labour Organization (ILO); Economist Intelligence Unit (EIU) calculation\t"
   ]
  },
  {
   "cell_type": "code",
   "execution_count": 2,
   "metadata": {},
   "outputs": [],
   "source": [
    "import pandas as pd \n",
    "import numpy as np"
   ]
  },
  {
   "cell_type": "code",
   "execution_count": 3,
   "metadata": {},
   "outputs": [
    {
     "name": "stdout",
     "output_type": "stream",
     "text": [
      "(91, 18)\n"
     ]
    },
    {
     "data": {
      "text/html": [
       "<div>\n",
       "<style scoped>\n",
       "    .dataframe tbody tr th:only-of-type {\n",
       "        vertical-align: middle;\n",
       "    }\n",
       "\n",
       "    .dataframe tbody tr th {\n",
       "        vertical-align: top;\n",
       "    }\n",
       "\n",
       "    .dataframe thead th {\n",
       "        text-align: right;\n",
       "    }\n",
       "</style>\n",
       "<table border=\"1\" class=\"dataframe\">\n",
       "  <thead>\n",
       "    <tr style=\"text-align: right;\">\n",
       "      <th></th>\n",
       "      <th>ISO</th>\n",
       "      <th>1995</th>\n",
       "      <th>1996</th>\n",
       "      <th>1997</th>\n",
       "      <th>1998</th>\n",
       "      <th>1999</th>\n",
       "      <th>2000</th>\n",
       "      <th>2001</th>\n",
       "      <th>2002</th>\n",
       "      <th>2003</th>\n",
       "      <th>2004</th>\n",
       "      <th>2005</th>\n",
       "      <th>2006</th>\n",
       "      <th>2007</th>\n",
       "      <th>2008</th>\n",
       "      <th>2009</th>\n",
       "      <th>2010</th>\n",
       "      <th>2011</th>\n",
       "    </tr>\n",
       "  </thead>\n",
       "  <tbody>\n",
       "    <tr>\n",
       "      <th>0</th>\n",
       "      <td>ARG</td>\n",
       "      <td>NaN</td>\n",
       "      <td>0.728161</td>\n",
       "      <td>0.746303</td>\n",
       "      <td>0.732799</td>\n",
       "      <td>0.760140</td>\n",
       "      <td>0.744977</td>\n",
       "      <td>0.746796</td>\n",
       "      <td>0.691323</td>\n",
       "      <td>0.682717</td>\n",
       "      <td>0.675961</td>\n",
       "      <td>0.692446</td>\n",
       "      <td>0.716376</td>\n",
       "      <td>0.681613</td>\n",
       "      <td>0.717364</td>\n",
       "      <td>0.769285</td>\n",
       "      <td>0.767844</td>\n",
       "      <td>NaN</td>\n",
       "    </tr>\n",
       "    <tr>\n",
       "      <th>1</th>\n",
       "      <td>ARM</td>\n",
       "      <td>NaN</td>\n",
       "      <td>NaN</td>\n",
       "      <td>NaN</td>\n",
       "      <td>NaN</td>\n",
       "      <td>NaN</td>\n",
       "      <td>0.519036</td>\n",
       "      <td>0.457770</td>\n",
       "      <td>0.406856</td>\n",
       "      <td>0.421224</td>\n",
       "      <td>0.534421</td>\n",
       "      <td>0.575120</td>\n",
       "      <td>0.592257</td>\n",
       "      <td>0.600205</td>\n",
       "      <td>0.582342</td>\n",
       "      <td>0.608425</td>\n",
       "      <td>0.640597</td>\n",
       "      <td>NaN</td>\n",
       "    </tr>\n",
       "    <tr>\n",
       "      <th>2</th>\n",
       "      <td>AUS</td>\n",
       "      <td>0.655935</td>\n",
       "      <td>0.657814</td>\n",
       "      <td>0.662401</td>\n",
       "      <td>0.655706</td>\n",
       "      <td>0.656263</td>\n",
       "      <td>0.662967</td>\n",
       "      <td>0.664777</td>\n",
       "      <td>0.652256</td>\n",
       "      <td>0.646554</td>\n",
       "      <td>0.655721</td>\n",
       "      <td>0.653322</td>\n",
       "      <td>0.650636</td>\n",
       "      <td>0.651101</td>\n",
       "      <td>0.649772</td>\n",
       "      <td>0.648822</td>\n",
       "      <td>0.648474</td>\n",
       "      <td>0.646326</td>\n",
       "    </tr>\n",
       "    <tr>\n",
       "      <th>3</th>\n",
       "      <td>AUT</td>\n",
       "      <td>NaN</td>\n",
       "      <td>NaN</td>\n",
       "      <td>0.599691</td>\n",
       "      <td>0.591357</td>\n",
       "      <td>0.592957</td>\n",
       "      <td>0.587067</td>\n",
       "      <td>0.595235</td>\n",
       "      <td>0.600972</td>\n",
       "      <td>0.602649</td>\n",
       "      <td>0.602383</td>\n",
       "      <td>0.604754</td>\n",
       "      <td>0.602605</td>\n",
       "      <td>0.598679</td>\n",
       "      <td>0.599764</td>\n",
       "      <td>0.613073</td>\n",
       "      <td>0.617181</td>\n",
       "      <td>NaN</td>\n",
       "    </tr>\n",
       "    <tr>\n",
       "      <th>4</th>\n",
       "      <td>AZE</td>\n",
       "      <td>NaN</td>\n",
       "      <td>NaN</td>\n",
       "      <td>NaN</td>\n",
       "      <td>NaN</td>\n",
       "      <td>0.444444</td>\n",
       "      <td>0.457627</td>\n",
       "      <td>0.416667</td>\n",
       "      <td>0.428571</td>\n",
       "      <td>0.446602</td>\n",
       "      <td>0.442748</td>\n",
       "      <td>0.462963</td>\n",
       "      <td>0.473958</td>\n",
       "      <td>0.505415</td>\n",
       "      <td>0.568392</td>\n",
       "      <td>NaN</td>\n",
       "      <td>0.548403</td>\n",
       "      <td>NaN</td>\n",
       "    </tr>\n",
       "  </tbody>\n",
       "</table>\n",
       "</div>"
      ],
      "text/plain": [
       "   ISO      1995      1996      1997      1998      1999      2000      2001  \\\n",
       "0  ARG       NaN  0.728161  0.746303  0.732799  0.760140  0.744977  0.746796   \n",
       "1  ARM       NaN       NaN       NaN       NaN       NaN  0.519036  0.457770   \n",
       "2  AUS  0.655935  0.657814  0.662401  0.655706  0.656263  0.662967  0.664777   \n",
       "3  AUT       NaN       NaN  0.599691  0.591357  0.592957  0.587067  0.595235   \n",
       "4  AZE       NaN       NaN       NaN       NaN  0.444444  0.457627  0.416667   \n",
       "\n",
       "       2002      2003      2004      2005      2006      2007      2008  \\\n",
       "0  0.691323  0.682717  0.675961  0.692446  0.716376  0.681613  0.717364   \n",
       "1  0.406856  0.421224  0.534421  0.575120  0.592257  0.600205  0.582342   \n",
       "2  0.652256  0.646554  0.655721  0.653322  0.650636  0.651101  0.649772   \n",
       "3  0.600972  0.602649  0.602383  0.604754  0.602605  0.598679  0.599764   \n",
       "4  0.428571  0.446602  0.442748  0.462963  0.473958  0.505415  0.568392   \n",
       "\n",
       "       2009      2010      2011  \n",
       "0  0.769285  0.767844       NaN  \n",
       "1  0.608425  0.640597       NaN  \n",
       "2  0.648822  0.648474  0.646326  \n",
       "3  0.613073  0.617181       NaN  \n",
       "4       NaN  0.548403       NaN  "
      ]
     },
     "execution_count": 3,
     "metadata": {},
     "output_type": "execute_result"
    }
   ],
   "source": [
    "df = pd.read_csv(\"GEPAYGAP.csv\")\n",
    "print(df.shape)  # 91 countries, 18 years\n",
    "df.head()"
   ]
  },
  {
   "cell_type": "code",
   "execution_count": 4,
   "metadata": {},
   "outputs": [],
   "source": [
    "col_nulls = df.isna().sum()\n",
    "# print(col_nulls.sort_values())\n",
    "## pick a year with low amonut of nans\n"
   ]
  },
  {
   "cell_type": "code",
   "execution_count": 16,
   "metadata": {},
   "outputs": [
    {
     "name": "stdout",
     "output_type": "stream",
     "text": [
      "(91, 2)\n"
     ]
    }
   ],
   "source": [
    "# get 2010 data only\n",
    "df_2010 = df[['ISO', '2010']].copy()\n",
    "print(df_2010.shape)\n"
   ]
  },
  {
   "cell_type": "code",
   "execution_count": 17,
   "metadata": {},
   "outputs": [
    {
     "data": {
      "text/html": [
       "<div>\n",
       "<style scoped>\n",
       "    .dataframe tbody tr th:only-of-type {\n",
       "        vertical-align: middle;\n",
       "    }\n",
       "\n",
       "    .dataframe tbody tr th {\n",
       "        vertical-align: top;\n",
       "    }\n",
       "\n",
       "    .dataframe thead th {\n",
       "        text-align: right;\n",
       "    }\n",
       "</style>\n",
       "<table border=\"1\" class=\"dataframe\">\n",
       "  <thead>\n",
       "    <tr style=\"text-align: right;\">\n",
       "      <th></th>\n",
       "      <th>ISO</th>\n",
       "      <th>2010</th>\n",
       "    </tr>\n",
       "  </thead>\n",
       "  <tbody>\n",
       "    <tr>\n",
       "      <th>0</th>\n",
       "      <td>ARG</td>\n",
       "      <td>0.767844</td>\n",
       "    </tr>\n",
       "    <tr>\n",
       "      <th>1</th>\n",
       "      <td>ARM</td>\n",
       "      <td>0.640597</td>\n",
       "    </tr>\n",
       "    <tr>\n",
       "      <th>2</th>\n",
       "      <td>AUS</td>\n",
       "      <td>0.648474</td>\n",
       "    </tr>\n",
       "    <tr>\n",
       "      <th>3</th>\n",
       "      <td>AUT</td>\n",
       "      <td>0.617181</td>\n",
       "    </tr>\n",
       "    <tr>\n",
       "      <th>4</th>\n",
       "      <td>AZE</td>\n",
       "      <td>0.548403</td>\n",
       "    </tr>\n",
       "  </tbody>\n",
       "</table>\n",
       "</div>"
      ],
      "text/plain": [
       "   ISO      2010\n",
       "0  ARG  0.767844\n",
       "1  ARM  0.640597\n",
       "2  AUS  0.648474\n",
       "3  AUT  0.617181\n",
       "4  AZE  0.548403"
      ]
     },
     "execution_count": 17,
     "metadata": {},
     "output_type": "execute_result"
    }
   ],
   "source": [
    "df_2010.head()"
   ]
  },
  {
   "cell_type": "code",
   "execution_count": 18,
   "metadata": {},
   "outputs": [
    {
     "name": "stdout",
     "output_type": "stream",
     "text": [
      "(57, 2)\n"
     ]
    }
   ],
   "source": [
    "df_2010.dropna(inplace=True)\n",
    "print(df_2010.shape)"
   ]
  },
  {
   "cell_type": "code",
   "execution_count": 20,
   "metadata": {},
   "outputs": [
    {
     "data": {
      "text/plain": [
       "Index(['ISO', 'gender_pay_gap_2010'], dtype='object')"
      ]
     },
     "execution_count": 20,
     "metadata": {},
     "output_type": "execute_result"
    }
   ],
   "source": [
    "df_2010.columns = ['ISO', 'gender_pay_gap_2010']\n",
    "df_2010.columns"
   ]
  },
  {
   "cell_type": "code",
   "execution_count": 21,
   "metadata": {},
   "outputs": [],
   "source": [
    "df_2010.to_csv(\"gender_pay_gap_2010.csv\", index=False)"
   ]
  },
  {
   "cell_type": "code",
   "execution_count": null,
   "metadata": {},
   "outputs": [],
   "source": []
  }
 ],
 "metadata": {
  "interpreter": {
   "hash": "40d3a090f54c6569ab1632332b64b2c03c39dcf918b08424e98f38b5ae0af88f"
  },
  "kernelspec": {
   "display_name": "Python 3.8.12 64-bit ('base': conda)",
   "language": "python",
   "name": "python3"
  },
  "language_info": {
   "codemirror_mode": {
    "name": "ipython",
    "version": 3
   },
   "file_extension": ".py",
   "mimetype": "text/x-python",
   "name": "python",
   "nbconvert_exporter": "python",
   "pygments_lexer": "ipython3",
   "version": "3.8.12"
  },
  "orig_nbformat": 4
 },
 "nbformat": 4,
 "nbformat_minor": 2
}
