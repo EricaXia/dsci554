{
 "cells": [
  {
   "cell_type": "markdown",
   "metadata": {},
   "source": [
    "# Donut chart Data Cleaning\n",
    "Series: GEPAYGAP\t\t\t\n",
    "\n",
    "Name: Gender monthly wages gap\t\t\t\t\t\t\t\t\t\t\t\t\t\t\t\t\t\n",
    "\n",
    "Definition: Monthly wages of women divided by the monthly wages of men\n",
    "\n",
    "Source: International Labour Organization (ILO); Economist Intelligence Unit (EIU) calculation\t"
   ]
  },
  {
   "cell_type": "code",
   "execution_count": 4,
   "metadata": {},
   "outputs": [],
   "source": [
    "import pandas as pd \n",
    "import numpy as np\n",
    "import csv \n",
    "import json\n",
    "import os"
   ]
  },
  {
   "cell_type": "code",
   "execution_count": 21,
   "metadata": {},
   "outputs": [
    {
     "name": "stdout",
     "output_type": "stream",
     "text": [
      "(145, 17) (145, 17)\n"
     ]
    }
   ],
   "source": [
    "# df = pd.read_csv(\"GEPAYGAP.csv\")\n",
    "# df = pd.read_csv(\"d3layout_data/GRSCFETL.csv\") # Share of science graduates at tertiary level, female\n",
    "\n",
    "# TEDSCNFE = \"Enrollment in tertiary education, science, female\",Number\n",
    "# TEDSCNMA = \"Enrollment in tertiary education, science, male\"\n",
    "path = \"/Users/ericaxia/Downloads/Github/project-girlboss/data/noceilings-data-master/csv\"\n",
    "os.chdir(path)\n",
    "df_f = pd.read_csv(\"TEDSCNFE.csv\")\n",
    "df_m = pd.read_csv(\"TEDSCNMA.csv\")\n",
    "\n",
    "\n",
    "print(df_f.shape, df_m.shape)\n",
    "df_f.head()\n",
    "\n",
    "dfs = [df_f, df_m]"
   ]
  },
  {
   "cell_type": "code",
   "execution_count": 9,
   "metadata": {},
   "outputs": [
    {
     "name": "stdout",
     "output_type": "stream",
     "text": [
      "ISO      0\n",
      "2011    61\n",
      "2010    64\n",
      "2008    65\n",
      "2009    68\n",
      "2004    79\n",
      "2007    80\n",
      "2005    82\n",
      "2006    83\n",
      "2003    86\n",
      "dtype: int64\n"
     ]
    }
   ],
   "source": [
    "df = df_f.copy()\n",
    "col_nulls = df.isna().sum()\n",
    "print(col_nulls.sort_values()[0:10])\n",
    "## pick a year with low amonut of nans\n",
    "## year = 2011"
   ]
  },
  {
   "cell_type": "code",
   "execution_count": 25,
   "metadata": {},
   "outputs": [],
   "source": [
    "\n",
    "os.chdir(\"/Users/ericaxia/Downloads/Github/dsci554/554_Project_Code/Project/\")\n",
    "\n",
    "## Map ISO -> Country name for better understandability in graph\n",
    "with open('d3layout_data/iso_to_country_names.csv', mode='r') as infile:\n",
    "    reader = csv.reader(infile)\n",
    "    country_names = {rows[0]: rows[1] for rows in reader}\n",
    "    country_names_dict = { v: k for k, v in country_names.items()}\n",
    "\n",
    "def convert_iso_to_name(iso):\n",
    "    if iso in country_names_dict:\n",
    "        return country_names_dict[iso]\n",
    "    else:\n",
    "        return iso\n"
   ]
  },
  {
   "cell_type": "code",
   "execution_count": 46,
   "metadata": {},
   "outputs": [
    {
     "name": "stdout",
     "output_type": "stream",
     "text": [
      "(84, 2)\n",
      "(84, 2)\n"
     ]
    }
   ],
   "source": [
    "# Get data for one year only\n",
    "year = 2011\n",
    "df_years = []\n",
    "\n",
    "for data in dfs:\n",
    "    # print(data.shape)\n",
    "    df_year = data[['ISO', f'{year}']].copy()\n",
    "    df_year.dropna(inplace=True)\n",
    "    df_year.columns = ['name', 'value']\n",
    "    df_year['name'] = df_year['name'].apply(lambda x: convert_iso_to_name(x))\n",
    "    print(df_year.shape)\n",
    "    # df_year.head()\n",
    "    # df_year.sort_values(by='value')\n",
    "    df_years.append(df_year)\n"
   ]
  },
  {
   "cell_type": "markdown",
   "metadata": {},
   "source": [
    "# Export data"
   ]
  },
  {
   "cell_type": "code",
   "execution_count": 49,
   "metadata": {},
   "outputs": [
    {
     "name": "stdout",
     "output_type": "stream",
     "text": [
      "(1, 3) (1, 3)\n"
     ]
    },
    {
     "name": "stderr",
     "output_type": "stream",
     "text": [
      "/var/folders/mm/jp6_fd4x0g126l5m3dfnk4k80000gn/T/ipykernel_32437/3493758752.py:4: SettingWithCopyWarning: \n",
      "A value is trying to be set on a copy of a slice from a DataFrame.\n",
      "Try using .loc[row_indexer,col_indexer] = value instead\n",
      "\n",
      "See the caveats in the documentation: https://pandas.pydata.org/pandas-docs/stable/user_guide/indexing.html#returning-a-view-versus-a-copy\n",
      "  df_fem['label'] = 'Female'\n",
      "/var/folders/mm/jp6_fd4x0g126l5m3dfnk4k80000gn/T/ipykernel_32437/3493758752.py:10: SettingWithCopyWarning: \n",
      "A value is trying to be set on a copy of a slice from a DataFrame.\n",
      "Try using .loc[row_indexer,col_indexer] = value instead\n",
      "\n",
      "See the caveats in the documentation: https://pandas.pydata.org/pandas-docs/stable/user_guide/indexing.html#returning-a-view-versus-a-copy\n",
      "  df_m['label'] = 'Male'\n"
     ]
    }
   ],
   "source": [
    "df_fem = df_years[0]\n",
    "country = 'United States'\n",
    "df_fem = df_fem[df_fem['name'] == country]\n",
    "df_fem['label'] = 'Female'\n",
    "# df_fem.head()\n",
    "\n",
    "df_m = df_years[1]\n",
    "# country = 'United States'\n",
    "df_m = df_m[df_m['name'] == country]\n",
    "df_m['label'] = 'Male'\n",
    "# df_m.head()\n",
    "\n",
    "print(df_fem.shape, df_m.shape)"
   ]
  },
  {
   "cell_type": "code",
   "execution_count": 51,
   "metadata": {},
   "outputs": [],
   "source": [
    "res = pd.concat([df_fem, df_m])\n",
    "res.to_csv(\"d3layout_data/fem_to_male_enrollment_USA.csv\", index=False)"
   ]
  },
  {
   "cell_type": "code",
   "execution_count": null,
   "metadata": {},
   "outputs": [],
   "source": []
  },
  {
   "cell_type": "code",
   "execution_count": 11,
   "metadata": {},
   "outputs": [],
   "source": [
    "# df_year.to_csv(\"gender_pay_gap_year.csv\", index=False)\n",
    "\n",
    "##  Share of science graduates at tertiary level, female\n",
    "# df_year.to_csv(\"d3layout_data/share_science_graduates_fem_year.csv\", index=False)"
   ]
  },
  {
   "cell_type": "code",
   "execution_count": null,
   "metadata": {},
   "outputs": [],
   "source": [
    "# TEST - look at one country and one year\n",
    "## Female v Male enrollment\n",
    "\n",
    "## For exmaple,\n",
    "\"\"\" \n",
    "name,value \n",
    "female, 20%\n",
    "male, 35%\n",
    " \"\"\"\n"
   ]
  }
 ],
 "metadata": {
  "interpreter": {
   "hash": "40d3a090f54c6569ab1632332b64b2c03c39dcf918b08424e98f38b5ae0af88f"
  },
  "kernelspec": {
   "display_name": "Python 3.8.12 64-bit ('base': conda)",
   "language": "python",
   "name": "python3"
  },
  "language_info": {
   "codemirror_mode": {
    "name": "ipython",
    "version": 3
   },
   "file_extension": ".py",
   "mimetype": "text/x-python",
   "name": "python",
   "nbconvert_exporter": "python",
   "pygments_lexer": "ipython3",
   "version": "3.8.12"
  },
  "orig_nbformat": 4
 },
 "nbformat": 4,
 "nbformat_minor": 2
}
