{
 "cells": [
  {
   "cell_type": "code",
   "execution_count": 27,
   "metadata": {},
   "outputs": [],
   "source": [
    "import pandas as pd\n",
    "import numpy as np\n",
    "import os\n",
    "import glob\n",
    "import seaborn as sns\n",
    "import matplotlib.pyplot as plt"
   ]
  },
  {
   "cell_type": "code",
   "execution_count": 13,
   "metadata": {},
   "outputs": [
    {
     "name": "stdout",
     "output_type": "stream",
     "text": [
      "['EASLFEIN.csv', 'EAPSFEIN.csv', 'EAPLFEIN.csv', 'EATLFEIN.csv', 'EASUFEIN.csv', '.csv']\n"
     ]
    }
   ],
   "source": [
    "os.chdir(\"/Users/ericaxia/Downloads/Github/554_Project_Code/Project/\")\n",
    "csv_files = []\n",
    "myfile = \"data_wanted.txt\"\n",
    "# text file where I specify which files I want to use\n",
    "with open(myfile, \"r\") as f:\n",
    "    lines = f.readlines()\n",
    "    for l in lines:    \n",
    "        file = l.rstrip(\"\\n\") + \".csv\"\n",
    "        csv_files.append(file)\n",
    "print(csv_files)"
   ]
  },
  {
   "cell_type": "code",
   "execution_count": 14,
   "metadata": {},
   "outputs": [
    {
     "name": "stdout",
     "output_type": "stream",
     "text": [
      "Using 5 csv files\n"
     ]
    }
   ],
   "source": [
    "# Read csv files from No Ceilings project folder\n",
    "path = \"/Users/ericaxia/Downloads/Github/project-girlboss/data/noceilings-data-master/csv\"\n",
    "extension = 'csv'\n",
    "os.chdir(path)\n",
    "result = glob.glob('*.{}'.format(extension))\n",
    "# print(result)\n",
    "# Narrow down to just the files I want\n",
    "result2 = [f for f in result if f in csv_files]\n",
    "dfs = []\n",
    "for f in result2:\n",
    "    df = pd.read_csv(f)\n",
    "    dfs.append((f, df))    \n",
    "print(f\"Using {len(dfs)} csv files\")"
   ]
  },
  {
   "cell_type": "code",
   "execution_count": 15,
   "metadata": {},
   "outputs": [],
   "source": [
    "# # EASUFEIN = Upper Secondary school female attainmet\n",
    "# df_us = dfs[0][1]\n",
    "# # df_us.head()\n",
    "# ## gets rid of text dscrip at bottom\n",
    "# df_us = df_us.iloc[0:121, :]\n",
    "# # df_us.tail()\n",
    "# col_nulls = df.isna().sum().sort_values()\n",
    "# c = col_nulls.to_frame()\n",
    "# c.reset_index(inplace=True)\n",
    "# c.columns = ['Country', 'Num Nulls']\n",
    "# print(c.iloc[0:4])\n",
    "# ## pick a year with low amonut of nans\n",
    "# ## e.g. 2012 "
   ]
  },
  {
   "cell_type": "code",
   "execution_count": 16,
   "metadata": {},
   "outputs": [],
   "source": [
    "## Which year has least amount of missing data?\n",
    "# for tup in dfs:\n",
    "#     print(tup[0])\n",
    "#     df_us = tup[1]\n",
    "#     df_us = df_us.iloc[0:121, :]\n",
    "#     col_nulls = df_us.isna().sum().sort_values()\n",
    "#     c = col_nulls.to_frame()\n",
    "#     c.reset_index(inplace=True)\n",
    "#     c.columns = ['Country', 'Num Nulls']\n",
    "#     print(c.iloc[0:4])\n",
    "#     ## pick a year with low amonut of nans\n",
    "#     ## e.g. 2012 seems like year that all DFs have low nans\n"
   ]
  },
  {
   "cell_type": "markdown",
   "metadata": {},
   "source": [
    "## Let's narrow down to 2012 year only"
   ]
  },
  {
   "cell_type": "code",
   "execution_count": 17,
   "metadata": {},
   "outputs": [],
   "source": [
    "os.chdir(\"/Users/ericaxia/Downloads/Github/554_Project_Code/Project/d3layout_data\")"
   ]
  },
  {
   "cell_type": "code",
   "execution_count": 18,
   "metadata": {},
   "outputs": [
    {
     "name": "stdout",
     "output_type": "stream",
     "text": [
      "EASUFEIN\n",
      "(43, 2)\n",
      "EAPSFEIN\n",
      "(31, 2)\n",
      "EAPLFEIN\n",
      "(36, 2)\n",
      "EATLFEIN\n",
      "(42, 2)\n",
      "EASLFEIN\n",
      "(40, 2)\n"
     ]
    }
   ],
   "source": [
    "\n",
    "year = '2012'  # chosen year to graph\n",
    "\n",
    "\n",
    "dfs_to_plot = []\n",
    "\n",
    "for i in range(len(dfs)):\n",
    "    # as a test, use first df for now\n",
    "    name = dfs[i][0].strip(\".csv\")\n",
    "    print(name)\n",
    "    df = dfs[i][1]\n",
    "    df = df.iloc[0:121, :] # TODO: better way to get rid of bottom text?\n",
    "    df = df[['ISO', year]]\n",
    "    # drop nans\n",
    "    df.dropna(inplace=True)\n",
    "    \n",
    "    # df.columns = ['ISO', name]\n",
    "    df.columns = ['name', 'value']\n",
    "    # df.head()\n",
    "    dfs_to_plot.append((name, df))\n",
    "    print(df.shape)\n",
    "    # df.to_json(f\"{name}.json\", orient='records')"
   ]
  },
  {
   "cell_type": "code",
   "execution_count": 24,
   "metadata": {},
   "outputs": [
    {
     "name": "stdout",
     "output_type": "stream",
     "text": [
      "EASUFEIN\n"
     ]
    },
    {
     "data": {
      "text/html": [
       "<div>\n",
       "<style scoped>\n",
       "    .dataframe tbody tr th:only-of-type {\n",
       "        vertical-align: middle;\n",
       "    }\n",
       "\n",
       "    .dataframe tbody tr th {\n",
       "        vertical-align: top;\n",
       "    }\n",
       "\n",
       "    .dataframe thead th {\n",
       "        text-align: right;\n",
       "    }\n",
       "</style>\n",
       "<table border=\"1\" class=\"dataframe\">\n",
       "  <thead>\n",
       "    <tr style=\"text-align: right;\">\n",
       "      <th></th>\n",
       "      <th>name</th>\n",
       "      <th>value</th>\n",
       "    </tr>\n",
       "  </thead>\n",
       "  <tbody>\n",
       "    <tr>\n",
       "      <th>4</th>\n",
       "      <td>AUS</td>\n",
       "      <td>75.0</td>\n",
       "    </tr>\n",
       "    <tr>\n",
       "      <th>5</th>\n",
       "      <td>AUT</td>\n",
       "      <td>69.8</td>\n",
       "    </tr>\n",
       "    <tr>\n",
       "      <th>15</th>\n",
       "      <td>BOL</td>\n",
       "      <td>37.3</td>\n",
       "    </tr>\n",
       "    <tr>\n",
       "      <th>18</th>\n",
       "      <td>BGR</td>\n",
       "      <td>70.6</td>\n",
       "    </tr>\n",
       "    <tr>\n",
       "      <th>25</th>\n",
       "      <td>CRI</td>\n",
       "      <td>38.0</td>\n",
       "    </tr>\n",
       "  </tbody>\n",
       "</table>\n",
       "</div>"
      ],
      "text/plain": [
       "   name  value\n",
       "4   AUS   75.0\n",
       "5   AUT   69.8\n",
       "15  BOL   37.3\n",
       "18  BGR   70.6\n",
       "25  CRI   38.0"
      ]
     },
     "execution_count": 24,
     "metadata": {},
     "output_type": "execute_result"
    }
   ],
   "source": [
    "name = dfs_to_plot[0][0]\n",
    "df = dfs_to_plot[0][1]\n",
    "print(name)\n",
    "\n",
    "df.columns = ['name', 'value']\n",
    "df.head()"
   ]
  },
  {
   "cell_type": "code",
   "execution_count": 33,
   "metadata": {},
   "outputs": [
    {
     "name": "stdout",
     "output_type": "stream",
     "text": [
      "EASUFEIN\n"
     ]
    },
    {
     "data": {
      "text/plain": [
       "<AxesSubplot:title={'center':'Female educational attainment % , upper secondary'}, xlabel='name', ylabel='value'>"
      ]
     },
     "execution_count": 33,
     "metadata": {},
     "output_type": "execute_result"
    },
    {
     "data": {
      "image/png": "[encoded data removed]",
      "text/plain": [
       "<Figure size 720x360 with 1 Axes>"
      ]
     },
     "metadata": {
      "needs_background": "light"
     },
     "output_type": "display_data"
    }
   ],
   "source": [
    "print(name)\n",
    "plt.figure(figsize=(10,5))\n",
    "plt.title(\"Female educational attainment % , upper secondary\")\n",
    "plt.xticks(rotation = 45)\n",
    "sns.barplot(data=df, x='name', y='value')"
   ]
  },
  {
   "cell_type": "markdown",
   "metadata": {},
   "source": [
    "# Ideal nested JSON format as final product\n",
    "That we can plug right into the zoomable circle packing chart \n",
    "Let names = country or code code, values = percentage \n",
    "\n",
    "```\n",
    "{\n",
    "    \"name\": \"education\",\n",
    "    \"children\": [\n",
    "        {\n",
    "            \"name\": \"Primary School Education, Women age 25+\",\n",
    "            \"children\": [\n",
    "                {\n",
    "                    \"value\": 95,\n",
    "                    \"name\": \"USA\"\n",
    "                },\n",
    "                ...\n",
    "            ]\n",
    "        },\n",
    "        {\n",
    "            \"name\": \"Secondary School Education, Women age 25+\",\n",
    "            \"children\": [\n",
    "                {\n",
    "                    \"value\": 96,\n",
    "                    \"name\": \"USA\"\n",
    "                },\n",
    "                ...\n",
    "            ]\n",
    "        },\n",
    "        ...\n",
    "    ]\n",
    "}\n",
    "\n",
    "```"
   ]
  },
  {
   "cell_type": "markdown",
   "metadata": {},
   "source": []
  }
 ],
 "metadata": {
  "interpreter": {
   "hash": "40d3a090f54c6569ab1632332b64b2c03c39dcf918b08424e98f38b5ae0af88f"
  },
  "kernelspec": {
   "display_name": "Python 3.8.12 64-bit ('base': conda)",
   "language": "python",
   "name": "python3"
  },
  "language_info": {
   "codemirror_mode": {
    "name": "ipython",
    "version": 3
   },
   "file_extension": ".py",
   "mimetype": "text/x-python",
   "name": "python",
   "nbconvert_exporter": "python",
   "pygments_lexer": "ipython3",
   "version": "3.8.12"
  },
  "orig_nbformat": 4
 },
 "nbformat": 4,
 "nbformat_minor": 2
}
