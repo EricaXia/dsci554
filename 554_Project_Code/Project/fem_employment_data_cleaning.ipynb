{
 "cells": [
  {
   "cell_type": "code",
   "execution_count": 25,
   "metadata": {},
   "outputs": [],
   "source": [
    "import pandas as pd\n",
    "import numpy as np\n",
    "import os\n",
    "import glob\n",
    "import seaborn as sns\n",
    "import matplotlib.pyplot as plt\n",
    "import json\n",
    "import csv"
   ]
  },
  {
   "cell_type": "code",
   "execution_count": 4,
   "metadata": {},
   "outputs": [
    {
     "name": "stdout",
     "output_type": "stream",
     "text": [
      "['SEOFE0AB.csv', 'SEOFE15A.csv', 'SEOFE15B.csv', 'SEOFE2AB.csv', 'SEOFE3AB.csv', 'SEOFE4AB.csv', 'SEOFE5AB.csv', 'SEOFE6AB.csv', 'SEOFE7AB.csv', 'SEOFE8AB.csv', 'SEOFE9AB.csv']\n"
     ]
    }
   ],
   "source": [
    "os.chdir(\"/Users/ericaxia/Downloads/Github/554_Project_Code/Project/\")\n",
    "csv_files = []\n",
    "myfile = \"share_by_occupation_female.txt\"\n",
    "# text file where I specify which files I want to use\n",
    "with open(myfile, \"r\") as f:\n",
    "    lines = f.readlines()\n",
    "    for l in lines:    \n",
    "        file = l.rstrip(\"\\n\") + \".csv\"\n",
    "        csv_files.append(file)\n",
    "print(csv_files)"
   ]
  },
  {
   "cell_type": "code",
   "execution_count": 5,
   "metadata": {},
   "outputs": [
    {
     "name": "stdout",
     "output_type": "stream",
     "text": [
      "Using 11 csv files\n"
     ]
    }
   ],
   "source": [
    "# Read csv files from No Ceilings project folder\n",
    "path = \"/Users/ericaxia/Downloads/Github/project-girlboss/data/noceilings-data-master/csv\"\n",
    "extension = 'csv'\n",
    "os.chdir(path)\n",
    "result = glob.glob('*.{}'.format(extension))\n",
    "# print(result)\n",
    "# Narrow down to just the files I want\n",
    "result2 = [f for f in result if f in csv_files]\n",
    "dfs = []\n",
    "for f in result2:\n",
    "    df = pd.read_csv(f)\n",
    "    dfs.append((f, df))    \n",
    "print(f\"Using {len(dfs)} csv files\")"
   ]
  },
  {
   "cell_type": "code",
   "execution_count": 6,
   "metadata": {},
   "outputs": [
    {
     "name": "stdout",
     "output_type": "stream",
     "text": [
      "  Country  Num Nulls\n",
      "0     ISO          0\n",
      "1    2012          7\n",
      "2    2011         11\n",
      "3    2009         43\n"
     ]
    }
   ],
   "source": [
    "df = dfs[0][1]\n",
    "df.head()\n",
    "# df.tail(10)\n",
    "# ## gets rid of text dscrip at bottom\n",
    "# df_us = df_us.iloc[0:121, :]\n",
    "# # df_us.tail()\n",
    "col_nulls = df.isna().sum().sort_values()\n",
    "c = col_nulls.to_frame()\n",
    "c.reset_index(inplace=True)\n",
    "c.columns = ['Country', 'Num Nulls']\n",
    "print(c.iloc[0:4])\n",
    "# ## pick a year with low amonut of nans\n",
    "# ## e.g. 2012 "
   ]
  },
  {
   "cell_type": "code",
   "execution_count": 7,
   "metadata": {},
   "outputs": [],
   "source": [
    "# # Which year has least amount of missing data?\n",
    "# for tup in dfs:\n",
    "#     print(tup[0])\n",
    "#     df_us = tup[1]\n",
    "#     df_us = df_us.iloc[0:121, :]\n",
    "#     col_nulls = df_us.isna().sum().sort_values()\n",
    "#     c = col_nulls.to_frame()\n",
    "#     c.reset_index(inplace=True)\n",
    "#     c.columns = ['Country', 'Num Nulls']\n",
    "#     print(c.iloc[0:4])\n",
    "#     ## pick a year with low amonut of nans\n",
    "#     ## e.g. 2012 seems like year that all DFs have low nans\n"
   ]
  },
  {
   "cell_type": "markdown",
   "metadata": {},
   "source": [
    "## Let's narrow down to a chosen year"
   ]
  },
  {
   "cell_type": "code",
   "execution_count": 8,
   "metadata": {},
   "outputs": [],
   "source": [
    "os.chdir(\"/Users/ericaxia/Downloads/Github/554_Project_Code/Project/d3layout_data\")"
   ]
  },
  {
   "cell_type": "code",
   "execution_count": 9,
   "metadata": {},
   "outputs": [
    {
     "name": "stdout",
     "output_type": "stream",
     "text": [
      "Exported SEOFE15A data with shape (37, 2)\n",
      "Exported SEOFE15B data with shape (1, 2)\n",
      "Exported SEOFE9AB data with shape (38, 2)\n",
      "Exported SEOFE8AB data with shape (38, 2)\n",
      "Exported SEOFE6AB data with shape (37, 2)\n",
      "Exported SEOFE4AB data with shape (38, 2)\n",
      "Exported SEOFE0AB data with shape (28, 2)\n",
      "Exported SEOFE2AB data with shape (38, 2)\n",
      "Exported SEOFE5AB data with shape (38, 2)\n",
      "Exported SEOFE7AB data with shape (38, 2)\n",
      "Exported SEOFE3AB data with shape (38, 2)\n"
     ]
    },
    {
     "name": "stderr",
     "output_type": "stream",
     "text": [
      "/opt/anaconda3/lib/python3.8/site-packages/pandas/util/_decorators.py:311: SettingWithCopyWarning: \n",
      "A value is trying to be set on a copy of a slice from a DataFrame\n",
      "\n",
      "See the caveats in the documentation: https://pandas.pydata.org/pandas-docs/stable/user_guide/indexing.html#returning-a-view-versus-a-copy\n",
      "  return func(*args, **kwargs)\n"
     ]
    }
   ],
   "source": [
    "\n",
    "year = '2012'  # chosen year to graph\n",
    "\n",
    "json_names = []\n",
    "dfs_to_plot = []\n",
    "\n",
    "for i in range(len(dfs)):\n",
    "    # as a test, use first df for now\n",
    "    name = dfs[i][0].strip(\".csv\")\n",
    "    df = dfs[i][1]\n",
    "    # df = df.iloc[0:121, :] # TODO: better way to get rid of bottom text?\n",
    "    df = df[['ISO', year]]\n",
    "\n",
    "    # drop nans\n",
    "    df.dropna(inplace=True)\n",
    "    \n",
    "    df.columns = ['name', 'value']\n",
    "    # df.head()\n",
    "    \n",
    "    dfs_to_plot.append((name, df))\n",
    "    # print(df.shape)\n",
    "    df.to_json(f\"{name}.json\", orient='records')\n",
    "    print(f\"Exported {name} data with shape {df.shape}\")\n",
    "    json_names.append(f\"{name}.json\")"
   ]
  },
  {
   "cell_type": "code",
   "execution_count": 10,
   "metadata": {},
   "outputs": [
    {
     "name": "stdout",
     "output_type": "stream",
     "text": [
      "SEOFE15A\n"
     ]
    },
    {
     "data": {
      "text/html": [
       "<div>\n",
       "<style scoped>\n",
       "    .dataframe tbody tr th:only-of-type {\n",
       "        vertical-align: middle;\n",
       "    }\n",
       "\n",
       "    .dataframe tbody tr th {\n",
       "        vertical-align: top;\n",
       "    }\n",
       "\n",
       "    .dataframe thead th {\n",
       "        text-align: right;\n",
       "    }\n",
       "</style>\n",
       "<table border=\"1\" class=\"dataframe\">\n",
       "  <thead>\n",
       "    <tr style=\"text-align: right;\">\n",
       "      <th></th>\n",
       "      <th>name</th>\n",
       "      <th>value</th>\n",
       "    </tr>\n",
       "  </thead>\n",
       "  <tbody>\n",
       "    <tr>\n",
       "      <th>0</th>\n",
       "      <td>AUT</td>\n",
       "      <td>2.9</td>\n",
       "    </tr>\n",
       "    <tr>\n",
       "      <th>1</th>\n",
       "      <td>BEL</td>\n",
       "      <td>5.8</td>\n",
       "    </tr>\n",
       "    <tr>\n",
       "      <th>2</th>\n",
       "      <td>BGR</td>\n",
       "      <td>4.7</td>\n",
       "    </tr>\n",
       "    <tr>\n",
       "      <th>4</th>\n",
       "      <td>HRV</td>\n",
       "      <td>2.5</td>\n",
       "    </tr>\n",
       "    <tr>\n",
       "      <th>5</th>\n",
       "      <td>CYP</td>\n",
       "      <td>1.3</td>\n",
       "    </tr>\n",
       "  </tbody>\n",
       "</table>\n",
       "</div>"
      ],
      "text/plain": [
       "  name  value\n",
       "0  AUT    2.9\n",
       "1  BEL    5.8\n",
       "2  BGR    4.7\n",
       "4  HRV    2.5\n",
       "5  CYP    1.3"
      ]
     },
     "execution_count": 10,
     "metadata": {},
     "output_type": "execute_result"
    }
   ],
   "source": [
    "name = dfs_to_plot[0][0]\n",
    "df = dfs_to_plot[0][1]\n",
    "print(name)\n",
    "\n",
    "df.columns = ['name', 'value']\n",
    "df.head()"
   ]
  },
  {
   "cell_type": "code",
   "execution_count": 11,
   "metadata": {},
   "outputs": [
    {
     "name": "stdout",
     "output_type": "stream",
     "text": [
      "SEOFE15A\n"
     ]
    },
    {
     "data": {
      "text/plain": [
       "<AxesSubplot:title={'center':'Percent of Female Managers, by Country'}, xlabel='name', ylabel='value'>"
      ]
     },
     "execution_count": 11,
     "metadata": {},
     "output_type": "execute_result"
    },
    {
     "data": {
      "image/png": "[encoded data removed]",
      "text/plain": [
       "<Figure size 720x360 with 1 Axes>"
      ]
     },
     "metadata": {
      "needs_background": "light"
     },
     "output_type": "display_data"
    }
   ],
   "source": [
    "print(name)\n",
    "plt.figure(figsize=(10,5))\n",
    "plt.title(\"Percent of Female Managers, by Country\")\n",
    "plt.xticks(rotation = 45)\n",
    "sns.barplot(data=df, x='name', y='value')"
   ]
  },
  {
   "cell_type": "markdown",
   "metadata": {},
   "source": [
    "# Ideal nested JSON format as final product\n",
    "That we can plug right into the zoomable circle packing chart \n",
    "Let names = country or code code, values = percentage \n",
    "\n",
    "```\n",
    "{\n",
    "    \"name\": \"education\",\n",
    "    \"children\": [\n",
    "        {\n",
    "            \"name\": \"Primary School Education, Women age 25+\",\n",
    "            \"children\": [\n",
    "                {\n",
    "                    \"value\": 95,\n",
    "                    \"name\": \"USA\"\n",
    "                },\n",
    "                ...\n",
    "            ]\n",
    "        },\n",
    "        {\n",
    "            \"name\": \"Secondary School Education, Women age 25+\",\n",
    "            \"children\": [\n",
    "                {\n",
    "                    \"value\": 96,\n",
    "                    \"name\": \"USA\"\n",
    "                },\n",
    "                ...\n",
    "            ]\n",
    "        },\n",
    "        ...\n",
    "    ]\n",
    "}\n",
    "\n",
    "```"
   ]
  },
  {
   "cell_type": "markdown",
   "metadata": {},
   "source": []
  },
  {
   "cell_type": "code",
   "execution_count": 12,
   "metadata": {},
   "outputs": [],
   "source": [
    "## continue where i left off"
   ]
  },
  {
   "cell_type": "code",
   "execution_count": 17,
   "metadata": {},
   "outputs": [
    {
     "name": "stdout",
     "output_type": "stream",
     "text": [
      "['SEOFE9AB.json', 'SEOFE5AB.json', 'SEOFE15A.json', 'SEOFE7AB.json', 'SEOFE3AB.json', 'SEOFE8AB.json', 'SEOFE4AB.json', 'SEOFE6AB.json', 'SEOFE2AB.json', 'SEOFE15B.json', 'SEOFE0AB.json']\n"
     ]
    }
   ],
   "source": [
    "# Read back in the json files saved\n",
    "os.chdir(\"/Users/ericaxia/Downloads/Github/554_Project_Code/Project/d3layout_data\")\n",
    "extension = 'json'\n",
    "result = glob.glob('*.{}'.format(extension))\n",
    "# Narrow down to just the files I want\n",
    "result2 = [f for f in result if f in json_names]\n",
    "# print(len(result2))"
   ]
  },
  {
   "cell_type": "code",
   "execution_count": 30,
   "metadata": {},
   "outputs": [],
   "source": [
    "# import csv file with full dataset name mappings\n",
    "with open('data_names.csv', mode='r') as infile:\n",
    "    reader = csv.reader(infile)\n",
    "    dataset_names = {rows[0]: rows[1] for rows in reader}\n",
    "    # print(dataset_names)\n"
   ]
  },
  {
   "cell_type": "code",
   "execution_count": 33,
   "metadata": {},
   "outputs": [],
   "source": [
    "# Create big json file\n",
    "\n",
    "export_file = { \"name\": \"employment\", \"children\": [] }\n",
    "\n",
    "for f in result2:\n",
    "    ds_code = f.split('.json')[0]\n",
    "    ds_name = dataset_names[ds_code]\n",
    "    # print(ds_name)\n",
    "    with open(f, \"r\") as read_file:\n",
    "        data = json.load(read_file)  # list of dicts\n",
    "        inner_dict = { \"name\": ds_name, \"children\": data }\n",
    "        export_file[\"children\"].append(inner_dict)\n",
    "        \n"
   ]
  },
  {
   "cell_type": "code",
   "execution_count": 35,
   "metadata": {},
   "outputs": [
    {
     "data": {
      "text/plain": [
       "2"
      ]
     },
     "execution_count": 35,
     "metadata": {},
     "output_type": "execute_result"
    }
   ],
   "source": [
    "# export_file"
   ]
  },
  {
   "cell_type": "code",
   "execution_count": 36,
   "metadata": {},
   "outputs": [],
   "source": [
    "with open(\"female_employment_data.json\", \"w\") as write_file:\n",
    "    json.dump(export_file, write_file)"
   ]
  },
  {
   "cell_type": "code",
   "execution_count": null,
   "metadata": {},
   "outputs": [],
   "source": []
  }
 ],
 "metadata": {
  "interpreter": {
   "hash": "40d3a090f54c6569ab1632332b64b2c03c39dcf918b08424e98f38b5ae0af88f"
  },
  "kernelspec": {
   "display_name": "Python 3.8.12 64-bit ('base': conda)",
   "language": "python",
   "name": "python3"
  },
  "language_info": {
   "codemirror_mode": {
    "name": "ipython",
    "version": 3
   },
   "file_extension": ".py",
   "mimetype": "text/x-python",
   "name": "python",
   "nbconvert_exporter": "python",
   "pygments_lexer": "ipython3",
   "version": "3.8.12"
  },
  "orig_nbformat": 4
 },
 "nbformat": 4,
 "nbformat_minor": 2
}
