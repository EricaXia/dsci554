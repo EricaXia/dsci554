{
 "cells": [
  {
   "cell_type": "markdown",
   "metadata": {},
   "source": [
    "# Monthly wages for females and males\n",
    "In LOCAL CURRENCY UNITS"
   ]
  },
  {
   "cell_type": "code",
   "execution_count": 1,
   "metadata": {},
   "outputs": [],
   "source": [
    "import pandas as pd\n",
    "import numpy as np\n",
    "import os\n",
    "import glob\n",
    "import seaborn as sns\n",
    "import matplotlib.pyplot as plt\n",
    "import json\n",
    "import csv\n",
    "from collections import defaultdict\n",
    "import functools\n",
    "import operator"
   ]
  },
  {
   "cell_type": "code",
   "execution_count": 2,
   "metadata": {},
   "outputs": [],
   "source": [
    "# Read csv files from No Ceilings project folder\n",
    "path = \"/Users/ericaxia/Downloads/Github/project-girlboss/data/noceilings-data-master/csv\"\n",
    "extension = 'csv'\n",
    "os.chdir(path)\n",
    "result = glob.glob('*.{}'.format(extension))\n",
    "# Narrow down to just the files I want\n",
    "files = ['MONWAGFE.csv', 'MONWAGMA.csv']\n",
    "dfs = []\n",
    "for f in files:\n",
    "    df = pd.read_csv(f)\n",
    "    dfs.append((f, df))    "
   ]
  },
  {
   "cell_type": "markdown",
   "metadata": {},
   "source": [
    "## Let's narrow down to a chosen year"
   ]
  },
  {
   "cell_type": "code",
   "execution_count": 3,
   "metadata": {},
   "outputs": [],
   "source": [
    "os.chdir(\"/Users/ericaxia/Downloads/Github/dsci554/554_Project_Code/Project/d3layout_data\")"
   ]
  },
  {
   "cell_type": "code",
   "execution_count": 4,
   "metadata": {},
   "outputs": [],
   "source": [
    "## NEW: map ISO -> Country name for better understandability in graph\n",
    "with open('iso_to_country_names.csv', mode='r') as infile:\n",
    "    reader = csv.reader(infile)\n",
    "    country_names = {rows[0]: rows[1] for rows in reader}\n",
    "    # print(country_names)\n",
    "\n",
    "country_names_dict = { v: k for k, v in country_names.items()}\n",
    "# country_names_dict\n"
   ]
  },
  {
   "cell_type": "code",
   "execution_count": 5,
   "metadata": {},
   "outputs": [],
   "source": [
    "def convert_iso_to_name(iso):\n",
    "    # print(x)\n",
    "    if iso in country_names_dict:\n",
    "        return country_names_dict[iso]\n",
    "    else:\n",
    "        return iso"
   ]
  },
  {
   "cell_type": "code",
   "execution_count": 6,
   "metadata": {},
   "outputs": [],
   "source": [
    "wages_fem = dfs[0][1]  # monthly wages for females\n",
    "wages_m = dfs[1][1] # monthly wages for males\n"
   ]
  },
  {
   "cell_type": "code",
   "execution_count": 7,
   "metadata": {},
   "outputs": [],
   "source": [
    "wages_fem = wages_fem.iloc[0:85, :]  # rm bottom descrip rows\n",
    "wages_m = wages_m.iloc[0:85, :]  # rm bottom descrip rows"
   ]
  },
  {
   "cell_type": "code",
   "execution_count": 8,
   "metadata": {},
   "outputs": [],
   "source": [
    "# wages_fem.head()"
   ]
  },
  {
   "cell_type": "code",
   "execution_count": 9,
   "metadata": {},
   "outputs": [],
   "source": [
    "## Missing values by year\n",
    "# wages_fem.isna().sum().sort_values()[0:5]"
   ]
  },
  {
   "cell_type": "code",
   "execution_count": 10,
   "metadata": {},
   "outputs": [
    {
     "name": "stdout",
     "output_type": "stream",
     "text": [
      "(26, 18) (26, 18)\n"
     ]
    }
   ],
   "source": [
    "# narrow down to countries that DO have data for 2011\n",
    "wages_fem = wages_fem[~wages_fem['2011'].isna()]\n",
    "wages_m = wages_m[~wages_m['2011'].isna()]\n",
    "print(wages_fem.shape, wages_m.shape) # (26,18) -> we have 26 countries"
   ]
  },
  {
   "cell_type": "code",
   "execution_count": 17,
   "metadata": {},
   "outputs": [],
   "source": [
    "# TODO: clean dfs, and export to JSON format needed for bar charts\n",
    "wages_fem = wages_fem.fillna(axis=0, method='pad')\n",
    "wages_m = wages_m.fillna(axis=0, method='pad')"
   ]
  },
  {
   "cell_type": "code",
   "execution_count": 23,
   "metadata": {},
   "outputs": [],
   "source": [
    "wages_fem['gender'] = 'female'\n",
    "wages_m['gender'] = 'male'\n"
   ]
  },
  {
   "cell_type": "code",
   "execution_count": 24,
   "metadata": {},
   "outputs": [
    {
     "data": {
      "text/plain": [
       "0"
      ]
     },
     "execution_count": 24,
     "metadata": {},
     "output_type": "execute_result"
    }
   ],
   "source": [
    "wages_fem.isna().sum().sum()\n",
    "wages_m.isna().sum().sum()"
   ]
  },
  {
   "cell_type": "code",
   "execution_count": 25,
   "metadata": {},
   "outputs": [
    {
     "data": {
      "text/html": [
       "<div>\n",
       "<style scoped>\n",
       "    .dataframe tbody tr th:only-of-type {\n",
       "        vertical-align: middle;\n",
       "    }\n",
       "\n",
       "    .dataframe tbody tr th {\n",
       "        vertical-align: top;\n",
       "    }\n",
       "\n",
       "    .dataframe thead th {\n",
       "        text-align: right;\n",
       "    }\n",
       "</style>\n",
       "<table border=\"1\" class=\"dataframe\">\n",
       "  <thead>\n",
       "    <tr style=\"text-align: right;\">\n",
       "      <th></th>\n",
       "      <th>ISO</th>\n",
       "      <th>1995</th>\n",
       "      <th>1996</th>\n",
       "      <th>1997</th>\n",
       "      <th>1998</th>\n",
       "      <th>1999</th>\n",
       "      <th>2000</th>\n",
       "      <th>2001</th>\n",
       "      <th>2002</th>\n",
       "      <th>2003</th>\n",
       "      <th>2004</th>\n",
       "      <th>2005</th>\n",
       "      <th>2006</th>\n",
       "      <th>2007</th>\n",
       "      <th>2008</th>\n",
       "      <th>2009</th>\n",
       "      <th>2010</th>\n",
       "      <th>2011</th>\n",
       "      <th>gender</th>\n",
       "    </tr>\n",
       "  </thead>\n",
       "  <tbody>\n",
       "    <tr>\n",
       "      <th>2</th>\n",
       "      <td>AUS</td>\n",
       "      <td>1867.23</td>\n",
       "      <td>1923.89</td>\n",
       "      <td>1996.15</td>\n",
       "      <td>2043.60</td>\n",
       "      <td>2081.95</td>\n",
       "      <td>2187.25</td>\n",
       "      <td>2286.27</td>\n",
       "      <td>2347.15</td>\n",
       "      <td>2450.61</td>\n",
       "      <td>2552.77</td>\n",
       "      <td>2680.17</td>\n",
       "      <td>2790.67</td>\n",
       "      <td>2931.82</td>\n",
       "      <td>3047.20</td>\n",
       "      <td>3181.43</td>\n",
       "      <td>3341.43</td>\n",
       "      <td>3473.27</td>\n",
       "      <td>female</td>\n",
       "    </tr>\n",
       "    <tr>\n",
       "      <th>2</th>\n",
       "      <td>AUS</td>\n",
       "      <td>2846.68</td>\n",
       "      <td>2924.68</td>\n",
       "      <td>3013.51</td>\n",
       "      <td>3116.64</td>\n",
       "      <td>3172.43</td>\n",
       "      <td>3299.18</td>\n",
       "      <td>3439.15</td>\n",
       "      <td>3598.51</td>\n",
       "      <td>3790.26</td>\n",
       "      <td>3893.07</td>\n",
       "      <td>4102.37</td>\n",
       "      <td>4289.13</td>\n",
       "      <td>4502.88</td>\n",
       "      <td>4689.64</td>\n",
       "      <td>4903.38</td>\n",
       "      <td>5152.77</td>\n",
       "      <td>5373.88</td>\n",
       "      <td>male</td>\n",
       "    </tr>\n",
       "  </tbody>\n",
       "</table>\n",
       "</div>"
      ],
      "text/plain": [
       "   ISO     1995     1996     1997     1998     1999     2000     2001  \\\n",
       "2  AUS  1867.23  1923.89  1996.15  2043.60  2081.95  2187.25  2286.27   \n",
       "2  AUS  2846.68  2924.68  3013.51  3116.64  3172.43  3299.18  3439.15   \n",
       "\n",
       "      2002     2003     2004     2005     2006     2007     2008     2009  \\\n",
       "2  2347.15  2450.61  2552.77  2680.17  2790.67  2931.82  3047.20  3181.43   \n",
       "2  3598.51  3790.26  3893.07  4102.37  4289.13  4502.88  4689.64  4903.38   \n",
       "\n",
       "      2010     2011  gender  \n",
       "2  3341.43  3473.27  female  \n",
       "2  5152.77  5373.88    male  "
      ]
     },
     "execution_count": 25,
     "metadata": {},
     "output_type": "execute_result"
    }
   ],
   "source": [
    "c = 'AUS'\n",
    "f1 = wages_fem[wages_fem['ISO'] == c]\n",
    "m1 = wages_m[wages_m['ISO'] == c]\n",
    "test = pd.concat([f1, m1], axis=0)\n",
    "test.head()"
   ]
  },
  {
   "cell_type": "code",
   "execution_count": null,
   "metadata": {},
   "outputs": [],
   "source": [
    "# old code below:"
   ]
  },
  {
   "cell_type": "code",
   "execution_count": null,
   "metadata": {},
   "outputs": [],
   "source": [
    "def clean_dfs(dfs, gender, year):\n",
    "    countries = []\n",
    "    json_names = []\n",
    "    for i in range(len(dfs)):\n",
    "        name = dfs[i][0].strip(\".csv\")\n",
    "        df = dfs[i][1]\n",
    "        df = df[['ISO', year]]\n",
    "        df.dropna(inplace=True)  # drop nans\n",
    "        df.columns = ['name', 'value']  # rename cols\n",
    "        # change ISO to full country\n",
    "        df['name'] = df['name'].apply(lambda x: convert_iso_to_name(x))\n",
    "        df['gender'] = gender  # set gender as new column\n",
    "        # drop weird ones that dont match any full country name\n",
    "        df = df[~df[\"name\"].str.isupper()]\n",
    "        df.to_json(f\"{name}.json\", orient='records')  # export to json\n",
    "        # print(f\"Exported {name} data with shape {df.shape}\")\n",
    "        json_names.append(f\"{name}.json\")\n",
    "        # # get unique countries\n",
    "        names = list(df['name'].unique())\n",
    "        countries.append(names)\n",
    "    return json_names, countries\n"
   ]
  },
  {
   "cell_type": "code",
   "execution_count": null,
   "metadata": {},
   "outputs": [],
   "source": [
    "# year = '2012'  # chosen year for plot\n",
    "# json_names_fem, countries_f = clean_dfs(dfs_female, 'female', year)\n",
    "# json_names_male, countries_m = clean_dfs(dfs_male, 'male', year)"
   ]
  },
  {
   "cell_type": "markdown",
   "metadata": {},
   "source": []
  },
  {
   "cell_type": "code",
   "execution_count": null,
   "metadata": {},
   "outputs": [],
   "source": [
    "## continue where i left off"
   ]
  },
  {
   "cell_type": "code",
   "execution_count": null,
   "metadata": {},
   "outputs": [],
   "source": [
    "# Read back in the json files saved\n",
    "os.chdir(\"/Users/ericaxia/Downloads/Github/dsci554/554_Project_Code/Project/d3layout_data\")\n",
    "extension = 'json'\n",
    "result = glob.glob('*.{}'.format(extension))\n",
    "# Narrow down to just the files I want\n",
    "f_result = [f for f in result if f in json_names_fem]\n",
    "m_result = [f for f in result if f in json_names_male]"
   ]
  },
  {
   "cell_type": "code",
   "execution_count": null,
   "metadata": {},
   "outputs": [],
   "source": [
    "# import csv file with full dataset name mappings\n",
    "with open('data_names_male.csv', mode='r') as infile:\n",
    "    reader = csv.reader(infile)\n",
    "    dataset_names_male = {rows[0]: rows[1].rstrip(\", Male\") for rows in reader}\n",
    "    print(dataset_names_male)"
   ]
  },
  {
   "cell_type": "code",
   "execution_count": null,
   "metadata": {},
   "outputs": [],
   "source": [
    "# import csv file with full dataset name mappings\n",
    "with open('data_names.csv', mode='r') as infile:\n",
    "    reader = csv.reader(infile)\n",
    "    dataset_names_female = {rows[0]: rows[1].rstrip(\", Female\") for rows in reader}\n",
    "    print(dataset_names_female)"
   ]
  },
  {
   "cell_type": "markdown",
   "metadata": {},
   "source": [
    "# Create big json file"
   ]
  },
  {
   "cell_type": "code",
   "execution_count": null,
   "metadata": {},
   "outputs": [],
   "source": [
    "data_dict = defaultdict(list)\n",
    "# female\n",
    "for f in f_result:\n",
    "    ds_code = f.split('.json')[0]\n",
    "    ds_name = dataset_names_female[ds_code]\n",
    "    # print(ds_name)\n",
    "    with open(f, \"r\") as read_file:\n",
    "        data = json.load(read_file)  # list of dicts\n",
    "        data_dict[ds_name].append(data)\n",
    "# print(len(data_dict))"
   ]
  },
  {
   "cell_type": "code",
   "execution_count": null,
   "metadata": {},
   "outputs": [],
   "source": [
    "# male\n",
    "for f in m_result:\n",
    "    ds_code = f.split('.json')[0]\n",
    "    ds_name = dataset_names_male[ds_code]\n",
    "    print(ds_name)\n",
    "    with open(f, \"r\") as read_file:\n",
    "        data = json.load(read_file)  # list of dicts\n",
    "        data_dict[ds_name].append(data)\n"
   ]
  },
  {
   "cell_type": "code",
   "execution_count": null,
   "metadata": {},
   "outputs": [],
   "source": [
    "# for occupation, list of lists ([male list], [female list]) \n",
    "## flatten the list of lists\n",
    "data_dict2 = defaultdict(list)\n",
    "for occ, lol in data_dict.items():\n",
    "    print(occ)\n",
    "    if len(lol) == 2:\n",
    "        data_dict2[occ] = lol[0] + lol[1]\n",
    "    elif len(lol) == 1:\n",
    "        data_dict2[occ] = lol"
   ]
  },
  {
   "cell_type": "code",
   "execution_count": null,
   "metadata": {},
   "outputs": [],
   "source": [
    "export_file = { \"name\": \"employment\", \"children\": [] }\n",
    "\n",
    "for occ, l in data_dict2.items():\n",
    "    inner_dict = { \"name\": occ, \"children\": l }\n",
    "    export_file[\"children\"].append(inner_dict)\n"
   ]
  },
  {
   "cell_type": "code",
   "execution_count": null,
   "metadata": {},
   "outputs": [],
   "source": [
    "print(len(export_file['children']))\n",
    "print(type(export_file['children']))"
   ]
  },
  {
   "cell_type": "code",
   "execution_count": null,
   "metadata": {},
   "outputs": [],
   "source": [
    "with open(\"all_employment_data.json\", \"w\") as write_file:\n",
    "    json.dump(export_file, write_file)"
   ]
  },
  {
   "cell_type": "code",
   "execution_count": null,
   "metadata": {},
   "outputs": [],
   "source": []
  }
 ],
 "metadata": {
  "interpreter": {
   "hash": "40d3a090f54c6569ab1632332b64b2c03c39dcf918b08424e98f38b5ae0af88f"
  },
  "kernelspec": {
   "display_name": "Python 3.8.12 64-bit ('base': conda)",
   "language": "python",
   "name": "python3"
  },
  "language_info": {
   "codemirror_mode": {
    "name": "ipython",
    "version": 3
   },
   "file_extension": ".py",
   "mimetype": "text/x-python",
   "name": "python",
   "nbconvert_exporter": "python",
   "pygments_lexer": "ipython3",
   "version": "3.8.12"
  },
  "orig_nbformat": 4
 },
 "nbformat": 4,
 "nbformat_minor": 2
}
