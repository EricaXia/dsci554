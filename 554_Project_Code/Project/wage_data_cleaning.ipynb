{
 "cells": [
  {
   "cell_type": "markdown",
   "metadata": {},
   "source": [
    "# Monthly wages for females and males\n",
    "In LOCAL CURRENCY UNITS"
   ]
  },
  {
   "cell_type": "code",
   "execution_count": 1,
   "metadata": {},
   "outputs": [],
   "source": [
    "import pandas as pd\n",
    "import numpy as np\n",
    "import os\n",
    "import glob\n",
    "import seaborn as sns\n",
    "import matplotlib.pyplot as plt\n",
    "import json\n",
    "import csv\n",
    "from collections import defaultdict\n",
    "import functools\n",
    "import operator"
   ]
  },
  {
   "cell_type": "code",
   "execution_count": 2,
   "metadata": {},
   "outputs": [],
   "source": [
    "# Read csv files from No Ceilings project folder\n",
    "path = \"/Users/ericaxia/Downloads/Github/project-girlboss/data/noceilings-data-master/csv\"\n",
    "extension = 'csv'\n",
    "os.chdir(path)\n",
    "result = glob.glob('*.{}'.format(extension))\n",
    "# Narrow down to just the files I want\n",
    "files = ['MONWAGFE.csv', 'MONWAGMA.csv']\n",
    "dfs = []\n",
    "for f in files:\n",
    "    df = pd.read_csv(f)\n",
    "    dfs.append((f, df))    "
   ]
  },
  {
   "cell_type": "markdown",
   "metadata": {},
   "source": [
    "## Let's narrow down to a chosen year"
   ]
  },
  {
   "cell_type": "code",
   "execution_count": 3,
   "metadata": {},
   "outputs": [],
   "source": [
    "os.chdir(\"/Users/ericaxia/Downloads/Github/dsci554/554_Project_Code/Project/d3layout_data\")"
   ]
  },
  {
   "cell_type": "code",
   "execution_count": 4,
   "metadata": {},
   "outputs": [],
   "source": [
    "## NEW: map ISO -> Country name for better understandability in graph\n",
    "with open('iso_to_country_names.csv', mode='r') as infile:\n",
    "    reader = csv.reader(infile)\n",
    "    country_names = {rows[0]: rows[1] for rows in reader}\n",
    "    # print(country_names)\n",
    "\n",
    "country_names_dict = { v: k for k, v in country_names.items()}\n",
    "# country_names_dict\n"
   ]
  },
  {
   "cell_type": "code",
   "execution_count": 5,
   "metadata": {},
   "outputs": [],
   "source": [
    "def convert_iso_to_name(iso):\n",
    "    # print(x)\n",
    "    if iso in country_names_dict:\n",
    "        return country_names_dict[iso]\n",
    "    else:\n",
    "        return iso"
   ]
  },
  {
   "cell_type": "code",
   "execution_count": 28,
   "metadata": {},
   "outputs": [],
   "source": [
    "wages_fem = dfs[0][1]  # monthly wages for females\n",
    "wages_m = dfs[1][1] # monthly wages for males\n"
   ]
  },
  {
   "cell_type": "code",
   "execution_count": 29,
   "metadata": {},
   "outputs": [],
   "source": [
    "wages_fem = wages_fem.iloc[0:85, :]  # rm bottom descrip rows\n",
    "wages_m = wages_m.iloc[0:85, :]  # rm bottom descrip rows"
   ]
  },
  {
   "cell_type": "code",
   "execution_count": 30,
   "metadata": {},
   "outputs": [],
   "source": [
    "## Missing values by year\n",
    "# wages_fem.isna().sum().sort_values()[0:5]"
   ]
  },
  {
   "cell_type": "code",
   "execution_count": 31,
   "metadata": {},
   "outputs": [
    {
     "name": "stdout",
     "output_type": "stream",
     "text": [
      "(26, 18) (26, 18)\n"
     ]
    }
   ],
   "source": [
    "# narrow down to countries that DO have data for 2011\n",
    "wages_fem = wages_fem[~wages_fem['2011'].isna()]\n",
    "wages_m = wages_m[~wages_m['2011'].isna()]\n",
    "print(wages_fem.shape, wages_m.shape) # (26,18) -> we have 26 countries"
   ]
  },
  {
   "cell_type": "code",
   "execution_count": 32,
   "metadata": {},
   "outputs": [],
   "source": [
    "# TODO: clean dfs, and export to JSON format needed for bar charts\n",
    "wages_fem = wages_fem.fillna(axis=0, method='pad')\n",
    "wages_m = wages_m.fillna(axis=0, method='pad')"
   ]
  },
  {
   "cell_type": "code",
   "execution_count": 33,
   "metadata": {},
   "outputs": [],
   "source": [
    "# wages_fem['gender'] = 'female'\n",
    "# wages_m['gender'] = 'male'\n"
   ]
  },
  {
   "cell_type": "code",
   "execution_count": 34,
   "metadata": {},
   "outputs": [
    {
     "data": {
      "text/plain": [
       "0"
      ]
     },
     "execution_count": 34,
     "metadata": {},
     "output_type": "execute_result"
    }
   ],
   "source": [
    "# wages_fem.isna().sum().sum()\n",
    "# wages_m.isna().sum().sum()"
   ]
  },
  {
   "cell_type": "code",
   "execution_count": 61,
   "metadata": {},
   "outputs": [
    {
     "data": {
      "text/plain": [
       "array(['AUS', 'CAN', 'CZE', 'ECU', 'DEU', 'GTM', 'ISL', 'LVA', 'LUX',\n",
       "       'MLT', 'MEX', 'MNG', 'NZL', 'NOR', 'PAK', 'PHL', 'QAT', 'SGP',\n",
       "       'SVK', 'ESP', 'SWE', 'SYR', 'THA', 'UKR', 'GBR', 'URY'],\n",
       "      dtype=object)"
      ]
     },
     "execution_count": 61,
     "metadata": {},
     "output_type": "execute_result"
    }
   ],
   "source": [
    "wages_fem['ISO'].unique()"
   ]
  },
  {
   "cell_type": "code",
   "execution_count": 74,
   "metadata": {},
   "outputs": [
    {
     "data": {
      "text/html": [
       "<div>\n",
       "<style scoped>\n",
       "    .dataframe tbody tr th:only-of-type {\n",
       "        vertical-align: middle;\n",
       "    }\n",
       "\n",
       "    .dataframe tbody tr th {\n",
       "        vertical-align: top;\n",
       "    }\n",
       "\n",
       "    .dataframe thead th {\n",
       "        text-align: right;\n",
       "    }\n",
       "</style>\n",
       "<table border=\"1\" class=\"dataframe\">\n",
       "  <thead>\n",
       "    <tr style=\"text-align: right;\">\n",
       "      <th></th>\n",
       "      <th>ISO</th>\n",
       "      <th>1995</th>\n",
       "      <th>1996</th>\n",
       "      <th>1997</th>\n",
       "      <th>1998</th>\n",
       "      <th>1999</th>\n",
       "      <th>2000</th>\n",
       "      <th>2001</th>\n",
       "      <th>2002</th>\n",
       "      <th>2003</th>\n",
       "      <th>2004</th>\n",
       "      <th>2005</th>\n",
       "      <th>2006</th>\n",
       "      <th>2007</th>\n",
       "      <th>2008</th>\n",
       "      <th>2009</th>\n",
       "      <th>2010</th>\n",
       "      <th>2011</th>\n",
       "    </tr>\n",
       "  </thead>\n",
       "  <tbody>\n",
       "    <tr>\n",
       "      <th>2</th>\n",
       "      <td>AUS</td>\n",
       "      <td>1867.23</td>\n",
       "      <td>1923.89</td>\n",
       "      <td>1996.15</td>\n",
       "      <td>2043.60</td>\n",
       "      <td>2081.95</td>\n",
       "      <td>2187.25</td>\n",
       "      <td>2286.27</td>\n",
       "      <td>2347.15</td>\n",
       "      <td>2450.61</td>\n",
       "      <td>2552.77</td>\n",
       "      <td>2680.17</td>\n",
       "      <td>2790.67</td>\n",
       "      <td>2931.82</td>\n",
       "      <td>3047.20</td>\n",
       "      <td>3181.43</td>\n",
       "      <td>3341.43</td>\n",
       "      <td>3473.27</td>\n",
       "    </tr>\n",
       "    <tr>\n",
       "      <th>2</th>\n",
       "      <td>AUS</td>\n",
       "      <td>2846.68</td>\n",
       "      <td>2924.68</td>\n",
       "      <td>3013.51</td>\n",
       "      <td>3116.64</td>\n",
       "      <td>3172.43</td>\n",
       "      <td>3299.18</td>\n",
       "      <td>3439.15</td>\n",
       "      <td>3598.51</td>\n",
       "      <td>3790.26</td>\n",
       "      <td>3893.07</td>\n",
       "      <td>4102.37</td>\n",
       "      <td>4289.13</td>\n",
       "      <td>4502.88</td>\n",
       "      <td>4689.64</td>\n",
       "      <td>4903.38</td>\n",
       "      <td>5152.77</td>\n",
       "      <td>5373.88</td>\n",
       "    </tr>\n",
       "  </tbody>\n",
       "</table>\n",
       "</div>"
      ],
      "text/plain": [
       "   ISO     1995     1996     1997     1998     1999     2000     2001  \\\n",
       "2  AUS  1867.23  1923.89  1996.15  2043.60  2081.95  2187.25  2286.27   \n",
       "2  AUS  2846.68  2924.68  3013.51  3116.64  3172.43  3299.18  3439.15   \n",
       "\n",
       "      2002     2003     2004     2005     2006     2007     2008     2009  \\\n",
       "2  2347.15  2450.61  2552.77  2680.17  2790.67  2931.82  3047.20  3181.43   \n",
       "2  3598.51  3790.26  3893.07  4102.37  4289.13  4502.88  4689.64  4903.38   \n",
       "\n",
       "      2010     2011  \n",
       "2  3341.43  3473.27  \n",
       "2  5152.77  5373.88  "
      ]
     },
     "execution_count": 74,
     "metadata": {},
     "output_type": "execute_result"
    }
   ],
   "source": [
    "c = 'AUS'\n",
    "f1 = wages_fem[wages_fem['ISO'] == c]\n",
    "m1 = wages_m[wages_m['ISO'] == c]\n",
    "test = pd.concat([f1, m1], axis=0)\n",
    "test.head()"
   ]
  },
  {
   "cell_type": "code",
   "execution_count": 75,
   "metadata": {},
   "outputs": [
    {
     "data": {
      "text/html": [
       "<div>\n",
       "<style scoped>\n",
       "    .dataframe tbody tr th:only-of-type {\n",
       "        vertical-align: middle;\n",
       "    }\n",
       "\n",
       "    .dataframe tbody tr th {\n",
       "        vertical-align: top;\n",
       "    }\n",
       "\n",
       "    .dataframe thead th {\n",
       "        text-align: right;\n",
       "    }\n",
       "</style>\n",
       "<table border=\"1\" class=\"dataframe\">\n",
       "  <thead>\n",
       "    <tr style=\"text-align: right;\">\n",
       "      <th></th>\n",
       "      <th>year</th>\n",
       "      <th>female</th>\n",
       "      <th>male</th>\n",
       "    </tr>\n",
       "  </thead>\n",
       "  <tbody>\n",
       "    <tr>\n",
       "      <th>0</th>\n",
       "      <td>1995</td>\n",
       "      <td>1867.23</td>\n",
       "      <td>2846.68</td>\n",
       "    </tr>\n",
       "    <tr>\n",
       "      <th>1</th>\n",
       "      <td>1996</td>\n",
       "      <td>1923.89</td>\n",
       "      <td>2924.68</td>\n",
       "    </tr>\n",
       "    <tr>\n",
       "      <th>2</th>\n",
       "      <td>1997</td>\n",
       "      <td>1996.15</td>\n",
       "      <td>3013.51</td>\n",
       "    </tr>\n",
       "    <tr>\n",
       "      <th>3</th>\n",
       "      <td>1998</td>\n",
       "      <td>2043.6</td>\n",
       "      <td>3116.64</td>\n",
       "    </tr>\n",
       "    <tr>\n",
       "      <th>4</th>\n",
       "      <td>1999</td>\n",
       "      <td>2081.95</td>\n",
       "      <td>3172.43</td>\n",
       "    </tr>\n",
       "  </tbody>\n",
       "</table>\n",
       "</div>"
      ],
      "text/plain": [
       "   year   female     male\n",
       "0  1995  1867.23  2846.68\n",
       "1  1996  1923.89  2924.68\n",
       "2  1997  1996.15  3013.51\n",
       "3  1998   2043.6  3116.64\n",
       "4  1999  2081.95  3172.43"
      ]
     },
     "execution_count": 75,
     "metadata": {},
     "output_type": "execute_result"
    }
   ],
   "source": [
    "f2 = f1.melt().iloc[1:, :]\n",
    "f2.columns = ['year', 'female']\n",
    "m2 = m1.melt().iloc[1:, :]\n",
    "m2.columns = ['year', 'male']\n",
    "all = f2.merge(m2, on='year')\n",
    "# all['avg'] = all['female'] + all['male']\n",
    "# all['avg'] = all['avg'] /2 \n",
    "all.head()"
   ]
  },
  {
   "cell_type": "code",
   "execution_count": 76,
   "metadata": {},
   "outputs": [],
   "source": [
    "fname = \"bar_test2.csv\"\n",
    "all.to_csv(\"bar_test2.csv\", index=False)"
   ]
  },
  {
   "cell_type": "code",
   "execution_count": null,
   "metadata": {},
   "outputs": [],
   "source": []
  }
 ],
 "metadata": {
  "interpreter": {
   "hash": "40d3a090f54c6569ab1632332b64b2c03c39dcf918b08424e98f38b5ae0af88f"
  },
  "kernelspec": {
   "display_name": "Python 3.8.12 64-bit ('base': conda)",
   "language": "python",
   "name": "python3"
  },
  "language_info": {
   "codemirror_mode": {
    "name": "ipython",
    "version": 3
   },
   "file_extension": ".py",
   "mimetype": "text/x-python",
   "name": "python",
   "nbconvert_exporter": "python",
   "pygments_lexer": "ipython3",
   "version": "3.8.12"
  },
  "orig_nbformat": 4
 },
 "nbformat": 4,
 "nbformat_minor": 2
}
