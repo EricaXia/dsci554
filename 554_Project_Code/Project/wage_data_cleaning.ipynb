{
 "cells": [
  {
   "cell_type": "markdown",
   "metadata": {},
   "source": [
    "# Monthly wages for females and males\n",
    "In LOCAL CURRENCY UNITS"
   ]
  },
  {
   "cell_type": "code",
   "execution_count": 1,
   "metadata": {},
   "outputs": [],
   "source": [
    "import pandas as pd\n",
    "import numpy as np\n",
    "import os\n",
    "import glob\n",
    "import seaborn as sns\n",
    "import matplotlib.pyplot as plt\n",
    "import json\n",
    "import csv\n",
    "from collections import defaultdict\n",
    "import functools\n",
    "import operator"
   ]
  },
  {
   "cell_type": "code",
   "execution_count": 2,
   "metadata": {},
   "outputs": [],
   "source": [
    "# Read csv files from No Ceilings project folder\n",
    "path = \"/Users/ericaxia/Downloads/Github/project-girlboss/data/noceilings-data-master/csv\"\n",
    "extension = 'csv'\n",
    "os.chdir(path)\n",
    "result = glob.glob('*.{}'.format(extension))\n",
    "# Narrow down to just the files I want\n",
    "files = ['MONWAGFE.csv', 'MONWAGMA.csv']\n",
    "dfs = []\n",
    "for f in files:\n",
    "    df = pd.read_csv(f)\n",
    "    dfs.append((f, df))    "
   ]
  },
  {
   "cell_type": "code",
   "execution_count": 3,
   "metadata": {},
   "outputs": [],
   "source": [
    "os.chdir(\"/Users/ericaxia/Downloads/Github/dsci554/554_Project_Code/Project/d3layout_data\")"
   ]
  },
  {
   "cell_type": "code",
   "execution_count": 4,
   "metadata": {},
   "outputs": [
    {
     "data": {
      "text/html": [
       "<div>\n",
       "<style scoped>\n",
       "    .dataframe tbody tr th:only-of-type {\n",
       "        vertical-align: middle;\n",
       "    }\n",
       "\n",
       "    .dataframe tbody tr th {\n",
       "        vertical-align: top;\n",
       "    }\n",
       "\n",
       "    .dataframe thead th {\n",
       "        text-align: right;\n",
       "    }\n",
       "</style>\n",
       "<table border=\"1\" class=\"dataframe\">\n",
       "  <thead>\n",
       "    <tr style=\"text-align: right;\">\n",
       "      <th></th>\n",
       "      <th>year</th>\n",
       "      <th>female</th>\n",
       "      <th>male</th>\n",
       "    </tr>\n",
       "  </thead>\n",
       "  <tbody>\n",
       "    <tr>\n",
       "      <th>0</th>\n",
       "      <td>1995</td>\n",
       "      <td>3133</td>\n",
       "      <td>4386</td>\n",
       "    </tr>\n",
       "    <tr>\n",
       "      <th>1</th>\n",
       "      <td>1996</td>\n",
       "      <td>3216</td>\n",
       "      <td>4360</td>\n",
       "    </tr>\n",
       "    <tr>\n",
       "      <th>2</th>\n",
       "      <td>1997</td>\n",
       "      <td>3316</td>\n",
       "      <td>4471</td>\n",
       "    </tr>\n",
       "    <tr>\n",
       "      <th>3</th>\n",
       "      <td>1998</td>\n",
       "      <td>3388</td>\n",
       "      <td>4630</td>\n",
       "    </tr>\n",
       "    <tr>\n",
       "      <th>4</th>\n",
       "      <td>1999</td>\n",
       "      <td>3376</td>\n",
       "      <td>4668</td>\n",
       "    </tr>\n",
       "  </tbody>\n",
       "</table>\n",
       "</div>"
      ],
      "text/plain": [
       "   year  female  male\n",
       "0  1995    3133  4386\n",
       "1  1996    3216  4360\n",
       "2  1997    3316  4471\n",
       "3  1998    3388  4630\n",
       "4  1999    3376  4668"
      ]
     },
     "execution_count": 4,
     "metadata": {},
     "output_type": "execute_result"
    }
   ],
   "source": [
    "# import US specific data (median dollar earnings per month)\n",
    "us_data = pd.read_csv(\"median_US_earnings.csv\")\n",
    "us_data.head()  "
   ]
  },
  {
   "cell_type": "code",
   "execution_count": null,
   "metadata": {},
   "outputs": [],
   "source": []
  },
  {
   "cell_type": "code",
   "execution_count": 5,
   "metadata": {},
   "outputs": [
    {
     "name": "stdout",
     "output_type": "stream",
     "text": [
      "(85, 18) (85, 18)\n"
     ]
    }
   ],
   "source": [
    "wages_fem = dfs[0][1].iloc[0:85, :]  # monthly wages for females\n",
    "wages_m = dfs[1][1].iloc[0:85, :] # monthly wages for males\n",
    "# wages_fem = wages_fem.iloc[0:85, :]  # rm bottom descrip rows\n",
    "# wages_m = wages_m.iloc[0:85, :]  # rm bottom descrip rows\n",
    "wages_fem_orig = wages_fem.copy()\n",
    "wages_m_orig =wages_m.copy()\n",
    "# wages_fem = wages_fem[~wages_fem['2011'].isna()]\n",
    "# wages_m = wages_m[~wages_m['2011'].isna()]\n",
    "print(wages_fem.shape, wages_m.shape) # (26,18) -> we have 26 countries\n"
   ]
  },
  {
   "cell_type": "code",
   "execution_count": 6,
   "metadata": {},
   "outputs": [
    {
     "name": "stderr",
     "output_type": "stream",
     "text": [
      "/opt/anaconda3/lib/python3.8/site-packages/pandas/core/indexing.py:1851: SettingWithCopyWarning: \n",
      "A value is trying to be set on a copy of a slice from a DataFrame.\n",
      "Try using .loc[row_indexer,col_indexer] = value instead\n",
      "\n",
      "See the caveats in the documentation: https://pandas.pydata.org/pandas-docs/stable/user_guide/indexing.html#returning-a-view-versus-a-copy\n",
      "  self._setitem_single_column(loc, val, pi)\n"
     ]
    }
   ],
   "source": [
    "wages_fem.iloc[:, 1:] = wages_fem.iloc[:, 1:].fillna(axis=1, method='pad')\n",
    "wages_m.iloc[:, 1:] = wages_m.iloc[:, 1:].fillna(axis=1, method='pad')\n",
    "wages_fem.iloc[:, 1:] = wages_fem.iloc[:, 1:].fillna(axis=1, method='bfill')\n",
    "wages_m.iloc[:, 1:] = wages_m.iloc[:, 1:].fillna(axis=1, method='bfill')"
   ]
  },
  {
   "cell_type": "code",
   "execution_count": null,
   "metadata": {},
   "outputs": [],
   "source": []
  },
  {
   "cell_type": "code",
   "execution_count": 7,
   "metadata": {},
   "outputs": [
    {
     "name": "stdout",
     "output_type": "stream",
     "text": [
      "0\n",
      "0\n"
     ]
    }
   ],
   "source": [
    "print(wages_fem.isna().sum().sum())\n",
    "print(wages_m.isna().sum().sum())"
   ]
  },
  {
   "cell_type": "code",
   "execution_count": 8,
   "metadata": {},
   "outputs": [],
   "source": [
    "# wages_fem_orig.head()\n",
    "# wages_fem.head()"
   ]
  },
  {
   "cell_type": "code",
   "execution_count": null,
   "metadata": {},
   "outputs": [],
   "source": []
  },
  {
   "cell_type": "code",
   "execution_count": 9,
   "metadata": {},
   "outputs": [
    {
     "name": "stdout",
     "output_type": "stream",
     "text": [
      "0\n"
     ]
    }
   ],
   "source": [
    "# process us data separartely\n",
    "us_data2 = us_data.transpose()\n",
    "us_data2.columns = us_data2.iloc[0,:]\n",
    "print(us_data2.isna().sum().sum())\n",
    "wages_fem_us = pd.DataFrame(us_data2.iloc[1,:])\n",
    "wages_m_us = pd.DataFrame(us_data2.iloc[2,:])\n"
   ]
  },
  {
   "cell_type": "code",
   "execution_count": 10,
   "metadata": {},
   "outputs": [],
   "source": [
    "wages_m_us.rename(columns={'male': 'value'}, inplace=True)\n",
    "wages_fem_us.rename(columns={'female': 'value'}, inplace=True)\n"
   ]
  },
  {
   "cell_type": "code",
   "execution_count": 11,
   "metadata": {},
   "outputs": [],
   "source": [
    "wages_fem_us['gender'] = 'female'\n",
    "wages_fem_us.reset_index(inplace=True)\n",
    "wages_m_us['gender'] = 'male'\n",
    "wages_m_us.reset_index(inplace=True)"
   ]
  },
  {
   "cell_type": "code",
   "execution_count": 12,
   "metadata": {},
   "outputs": [],
   "source": [
    "wages_us = pd.concat([wages_fem_us, wages_m_us], axis=0)\n",
    "wages_us['ISO'] = 'USA'\n",
    "wages_us2 = wages_us[wages_us['year'] != 'ISO']\n",
    "# wages_us2.drop(labels='index', axis=1, inplace=True)"
   ]
  },
  {
   "cell_type": "code",
   "execution_count": 13,
   "metadata": {},
   "outputs": [],
   "source": [
    "## combine BOTH genders one dataset for ONE country\n",
    "\"\"\" \n",
    "1. Narrow down country\n",
    "2. Separately for each M / F dataset, melt the dataset\n",
    "3. concat the melted datasets together\n",
    "\"\"\"\n",
    "all_countries = pd.DataFrame()\n",
    "countries = list(wages_fem['ISO'].unique())\n",
    "countries.remove(\"MLT\")\n",
    "\n",
    "## Choose a country\n",
    "for c in countries:\n",
    "    f1 = wages_fem[wages_fem['ISO'] == c]\n",
    "    f2 = f1.melt().iloc[1:, :]\n",
    "    f2.columns = ['year', 'value']\n",
    "    f2['gender'] = 'female'\n",
    "    m1 = wages_m[wages_m['ISO'] == c]\n",
    "    m2 = m1.melt().iloc[1:, :]\n",
    "    m2.columns = ['year', 'value']\n",
    "    m2['gender'] = 'male'\n",
    "    all = pd.concat([f2, m2], axis=0)\n",
    "    all2 = all[all['year'] != 'gender']\n",
    "    all2['ISO'] = c\n",
    "    all_countries = pd.concat([all_countries, all2], axis=0)\n"
   ]
  },
  {
   "cell_type": "code",
   "execution_count": 14,
   "metadata": {},
   "outputs": [
    {
     "name": "stdout",
     "output_type": "stream",
     "text": [
      "(2856, 4)\n"
     ]
    }
   ],
   "source": [
    "# all_countries.head()\n",
    "print(all_countries.shape)"
   ]
  },
  {
   "cell_type": "code",
   "execution_count": 15,
   "metadata": {},
   "outputs": [
    {
     "name": "stdout",
     "output_type": "stream",
     "text": [
      "(2910, 4)\n"
     ]
    }
   ],
   "source": [
    "# all_countries.reset_index(inplace=True)\n",
    "# wages_us2.reset_index(inplace=True)\n",
    "all_countries2 = pd.concat([all_countries, wages_us2], axis=0)\n",
    "print(all_countries2.shape)"
   ]
  },
  {
   "cell_type": "code",
   "execution_count": 16,
   "metadata": {},
   "outputs": [],
   "source": [
    "df = all_countries2\n",
    "df.dropna(axis=0, inplace=True)"
   ]
  },
  {
   "cell_type": "code",
   "execution_count": 17,
   "metadata": {},
   "outputs": [],
   "source": [
    "## check for missing values\n",
    "# df.isna().sum().sort_values(ascending=False)\n",
    "# df.drop(labels='index', axis=1, inplace=True)"
   ]
  },
  {
   "cell_type": "code",
   "execution_count": 18,
   "metadata": {},
   "outputs": [
    {
     "data": {
      "text/plain": [
       "(2910, 4)"
      ]
     },
     "execution_count": 18,
     "metadata": {},
     "output_type": "execute_result"
    }
   ],
   "source": [
    "df.shape"
   ]
  },
  {
   "cell_type": "code",
   "execution_count": 19,
   "metadata": {},
   "outputs": [
    {
     "data": {
      "text/html": [
       "<div>\n",
       "<style scoped>\n",
       "    .dataframe tbody tr th:only-of-type {\n",
       "        vertical-align: middle;\n",
       "    }\n",
       "\n",
       "    .dataframe tbody tr th {\n",
       "        vertical-align: top;\n",
       "    }\n",
       "\n",
       "    .dataframe thead th {\n",
       "        text-align: right;\n",
       "    }\n",
       "</style>\n",
       "<table border=\"1\" class=\"dataframe\">\n",
       "  <thead>\n",
       "    <tr style=\"text-align: right;\">\n",
       "      <th></th>\n",
       "      <th>year</th>\n",
       "      <th>value</th>\n",
       "      <th>gender</th>\n",
       "      <th>ISO</th>\n",
       "    </tr>\n",
       "  </thead>\n",
       "  <tbody>\n",
       "    <tr>\n",
       "      <th>1</th>\n",
       "      <td>1995</td>\n",
       "      <td>480.47</td>\n",
       "      <td>female</td>\n",
       "      <td>ARG</td>\n",
       "    </tr>\n",
       "    <tr>\n",
       "      <th>2</th>\n",
       "      <td>1996</td>\n",
       "      <td>480.47</td>\n",
       "      <td>female</td>\n",
       "      <td>ARG</td>\n",
       "    </tr>\n",
       "    <tr>\n",
       "      <th>3</th>\n",
       "      <td>1997</td>\n",
       "      <td>485.53</td>\n",
       "      <td>female</td>\n",
       "      <td>ARG</td>\n",
       "    </tr>\n",
       "    <tr>\n",
       "      <th>4</th>\n",
       "      <td>1998</td>\n",
       "      <td>509.2</td>\n",
       "      <td>female</td>\n",
       "      <td>ARG</td>\n",
       "    </tr>\n",
       "    <tr>\n",
       "      <th>5</th>\n",
       "      <td>1999</td>\n",
       "      <td>504.33</td>\n",
       "      <td>female</td>\n",
       "      <td>ARG</td>\n",
       "    </tr>\n",
       "  </tbody>\n",
       "</table>\n",
       "</div>"
      ],
      "text/plain": [
       "   year   value  gender  ISO\n",
       "1  1995  480.47  female  ARG\n",
       "2  1996  480.47  female  ARG\n",
       "3  1997  485.53  female  ARG\n",
       "4  1998   509.2  female  ARG\n",
       "5  1999  504.33  female  ARG"
      ]
     },
     "execution_count": 19,
     "metadata": {},
     "output_type": "execute_result"
    }
   ],
   "source": [
    "df.head()"
   ]
  },
  {
   "cell_type": "code",
   "execution_count": 20,
   "metadata": {},
   "outputs": [],
   "source": [
    "## Map ISO -> Country name for better understandability in graph\n",
    "with open('iso_to_country_names.csv', mode='r') as infile:\n",
    "    reader = csv.reader(infile)\n",
    "    country_names = {rows[0]: rows[1] for rows in reader}\n",
    "country_names_dict = { v: k for k, v in country_names.items()}\n",
    "def convert_iso_to_name(iso):\n",
    "    if iso in country_names_dict:\n",
    "        return country_names_dict[iso]\n",
    "    else:\n",
    "        return iso\n",
    "# df['country'] = df['ISO']\n",
    "df['country'] = df['ISO'].apply(convert_iso_to_name)\n",
    "# df.drop(labels='ISO', axis=1, inplace=True)"
   ]
  },
  {
   "cell_type": "code",
   "execution_count": 21,
   "metadata": {},
   "outputs": [],
   "source": [
    "df['value'] = df['value'].astype(int)"
   ]
  },
  {
   "cell_type": "code",
   "execution_count": 22,
   "metadata": {},
   "outputs": [],
   "source": [
    "df = df[['year', 'country', 'value', 'gender']]"
   ]
  },
  {
   "cell_type": "code",
   "execution_count": 23,
   "metadata": {},
   "outputs": [
    {
     "name": "stdout",
     "output_type": "stream",
     "text": [
      "(2910, 4)\n"
     ]
    }
   ],
   "source": [
    "print(df.shape)"
   ]
  },
  {
   "cell_type": "code",
   "execution_count": 24,
   "metadata": {},
   "outputs": [
    {
     "data": {
      "text/html": [
       "<div>\n",
       "<style scoped>\n",
       "    .dataframe tbody tr th:only-of-type {\n",
       "        vertical-align: middle;\n",
       "    }\n",
       "\n",
       "    .dataframe tbody tr th {\n",
       "        vertical-align: top;\n",
       "    }\n",
       "\n",
       "    .dataframe thead th {\n",
       "        text-align: right;\n",
       "    }\n",
       "</style>\n",
       "<table border=\"1\" class=\"dataframe\">\n",
       "  <thead>\n",
       "    <tr style=\"text-align: right;\">\n",
       "      <th></th>\n",
       "      <th>year</th>\n",
       "      <th>country</th>\n",
       "      <th>value</th>\n",
       "      <th>gender</th>\n",
       "    </tr>\n",
       "  </thead>\n",
       "  <tbody>\n",
       "    <tr>\n",
       "      <th>1</th>\n",
       "      <td>1995</td>\n",
       "      <td>Argentina</td>\n",
       "      <td>480</td>\n",
       "      <td>female</td>\n",
       "    </tr>\n",
       "    <tr>\n",
       "      <th>2</th>\n",
       "      <td>1996</td>\n",
       "      <td>Argentina</td>\n",
       "      <td>480</td>\n",
       "      <td>female</td>\n",
       "    </tr>\n",
       "    <tr>\n",
       "      <th>3</th>\n",
       "      <td>1997</td>\n",
       "      <td>Argentina</td>\n",
       "      <td>485</td>\n",
       "      <td>female</td>\n",
       "    </tr>\n",
       "    <tr>\n",
       "      <th>4</th>\n",
       "      <td>1998</td>\n",
       "      <td>Argentina</td>\n",
       "      <td>509</td>\n",
       "      <td>female</td>\n",
       "    </tr>\n",
       "    <tr>\n",
       "      <th>5</th>\n",
       "      <td>1999</td>\n",
       "      <td>Argentina</td>\n",
       "      <td>504</td>\n",
       "      <td>female</td>\n",
       "    </tr>\n",
       "  </tbody>\n",
       "</table>\n",
       "</div>"
      ],
      "text/plain": [
       "   year    country  value  gender\n",
       "1  1995  Argentina    480  female\n",
       "2  1996  Argentina    480  female\n",
       "3  1997  Argentina    485  female\n",
       "4  1998  Argentina    509  female\n",
       "5  1999  Argentina    504  female"
      ]
     },
     "execution_count": 24,
     "metadata": {},
     "output_type": "execute_result"
    }
   ],
   "source": [
    "df.head()"
   ]
  },
  {
   "cell_type": "code",
   "execution_count": 26,
   "metadata": {},
   "outputs": [],
   "source": [
    "# df['country'].nunique() # 85 countries"
   ]
  },
  {
   "cell_type": "code",
   "execution_count": null,
   "metadata": {},
   "outputs": [],
   "source": [
    "## TO EXPORT AS CSV\n",
    "# df.to_csv(\"wages.csv\", index=False)"
   ]
  },
  {
   "cell_type": "markdown",
   "metadata": {},
   "source": [
    "# Reformat for Overview"
   ]
  },
  {
   "cell_type": "code",
   "execution_count": null,
   "metadata": {},
   "outputs": [],
   "source": [
    "## put all lines on one chart\n",
    "## my concern: 85 countries, 2 gender lines, thats too many lines on a cahrt. its not going to be readable\n",
    "# TODO: organize by continent?\n",
    "# TODO: calc acutal gap as wage difference, instead of male and fem wages on separate lines\n",
    "\n"
   ]
  }
 ],
 "metadata": {
  "interpreter": {
   "hash": "40d3a090f54c6569ab1632332b64b2c03c39dcf918b08424e98f38b5ae0af88f"
  },
  "kernelspec": {
   "display_name": "Python 3.8.12 64-bit ('base': conda)",
   "language": "python",
   "name": "python3"
  },
  "language_info": {
   "codemirror_mode": {
    "name": "ipython",
    "version": 3
   },
   "file_extension": ".py",
   "mimetype": "text/x-python",
   "name": "python",
   "nbconvert_exporter": "python",
   "pygments_lexer": "ipython3",
   "version": "3.8.12"
  },
  "orig_nbformat": 4
 },
 "nbformat": 4,
 "nbformat_minor": 2
}
